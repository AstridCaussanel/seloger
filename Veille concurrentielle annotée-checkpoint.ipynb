{
 "cells": [
  {
   "cell_type": "code",
   "execution_count": 1,
   "id": "e497e109",
   "metadata": {},
   "outputs": [],
   "source": [
    "import requests\n",
    "from bs4 import BeautifulSoup\n",
    "\n",
    "import numpy as np\n",
    "import pandas as pd\n",
    "\n",
    "%matplotlib inline\n",
    "import matplotlib"
   ]
  },
  {
   "cell_type": "markdown",
   "id": "5df5f32c",
   "metadata": {},
   "source": [
    "### Récupérer données"
   ]
  },
  {
   "cell_type": "code",
   "execution_count": 2,
   "id": "9a123397",
   "metadata": {},
   "outputs": [],
   "source": [
    "# url='https://www.seloger.com/list.htm?projects=2,5&types=1,2&natures=1,2,4&places=[{%22inseeCodes%22:[750117]}]&price=1000000/1500000&surface=100/NaN&enterprise=0&qsVersion=1.0&m=search_refine'\n",
    "\n",
    "url='https://www.seloger.com/list.htm?projects=2%2C5&types=1%2C2&natures=1%2C2%2C4&places=%5B%7B%22inseeCodes%22%3A%5B750117%5D%7D%5D&price=1000000%2F1500000&surface=100%2FNaN&enterprise=0&qsVersion=1.0'\n",
    "headers={ 'User-Agent':'Mozilla/5.0(Windows NT 10.0;Win64;x64;rv:89.0) Gecko/20100101 Firefox/89.0',\n",
    "}"
   ]
  },
  {
   "cell_type": "code",
   "execution_count": 3,
   "id": "ce35f121",
   "metadata": {},
   "outputs": [],
   "source": [
    "r=requests.get(url,allow_redirects=True,headers=headers)"
   ]
  },
  {
   "cell_type": "markdown",
   "id": "8f86fb80",
   "metadata": {},
   "source": [
    "### Transformer en fichier HTML"
   ]
  },
  {
   "cell_type": "code",
   "execution_count": 4,
   "id": "9e760ef1",
   "metadata": {
    "scrolled": false
   },
   "outputs": [
    {
     "data": {
      "text/plain": [
       "[<a class=\"Contact__NameContainer-sc-3d01ca-0 dUWYFm\" data-test=\"sl.website\" href=\"https://www.barnes-paris.com/\" rel=\"nofollow\" target=\"_blank\">Barnes Courcelles</a>,\n",
       " <a class=\"Contact__NameContainer-sc-3d01ca-0 dUWYFm\" data-test=\"sl.website\" href=\"http://www.buildingpartners.com/\" rel=\"nofollow\" target=\"_blank\">Building Partners</a>,\n",
       " <a class=\"Contact__NameContainer-sc-3d01ca-0 dUWYFm\" data-test=\"sl.website\" href=\"http://www.buildingpartners.com/\" rel=\"nofollow\" target=\"_blank\">Building Partners</a>,\n",
       " <a class=\"Contact__NameContainer-sc-3d01ca-0 dUWYFm\" data-test=\"sl.website\" href=\"http://www.buildingpartners.com/\" rel=\"nofollow\" target=\"_blank\">Building Partners</a>,\n",
       " <a class=\"Contact__NameContainer-sc-3d01ca-0 dUWYFm\" data-test=\"sl.website\" href=\"http://www.iadfrance.fr/fr/conseiller/@sebastien.clausse??utm_campaign=spring&amp;utm_medium=referral&amp;utm_source=seloger\" rel=\"nofollow\" target=\"_blank\">Iad France / Sébastien Clausse</a>,\n",
       " <a class=\"Contact__NameContainer-sc-3d01ca-0 dUWYFm\" data-test=\"sl.website\" href=\"http://www.buildingpartners.com/\" rel=\"nofollow\" target=\"_blank\">Building Partners</a>,\n",
       " <a class=\"Contact__NameContainer-sc-3d01ca-0 dUWYFm\" data-test=\"sl.website\" href=\"http://www.orpi.com/urbansuccess\" rel=\"nofollow\" target=\"_blank\">Urban Success</a>,\n",
       " <a class=\"Contact__NameContainer-sc-3d01ca-0 dUWYFm\" data-test=\"sl.website\" href=\"http://www.stephaneplazaimmobilier.com/agence/115119___/stephane-plaza-immobilier-paris-17-eme-batignolles.html\" rel=\"nofollow\" target=\"_blank\">Stéphane Plaza Immobilier Paris 17 Ème Batignolles</a>,\n",
       " <a class=\"Contact__NameContainer-sc-3d01ca-0 dUWYFm\" data-test=\"sl.website\" href=\"http://www.squares-international.com/\" rel=\"nofollow\" target=\"_blank\">Square’s International</a>,\n",
       " <a class=\"Contact__NameContainer-sc-3d01ca-0 dUWYFm\" data-test=\"sl.website\" href=\"http://www.fortisimmo.fr\" rel=\"nofollow\" target=\"_blank\">Keller Williams Fortis Immo</a>,\n",
       " <a class=\"Contact__NameContainer-sc-3d01ca-0 dUWYFm\" data-test=\"sl.website\" href=\"http://www.buildingpartners.com/\" rel=\"nofollow\" target=\"_blank\">Building Partners</a>,\n",
       " <a class=\"Contact__NameContainer-sc-3d01ca-0 dUWYFm\" data-test=\"sl.website\" href=\"http://www.buildingpartners.com/\" rel=\"nofollow\" target=\"_blank\">Building Partners</a>,\n",
       " <a class=\"Contact__NameContainer-sc-3d01ca-0 dUWYFm\" data-test=\"sl.website\" href=\"https://danielfeau.com/\" rel=\"nofollow\" target=\"_blank\">Daniel Feau Ternes</a>,\n",
       " <a class=\"Contact__NameContainer-sc-3d01ca-0 dUWYFm\" data-test=\"sl.website\" href=\"http://www.squares-international.com/\" rel=\"nofollow\" target=\"_blank\">Square’s International</a>,\n",
       " <a class=\"Contact__NameContainer-sc-3d01ca-0 dUWYFm\" data-test=\"sl.website\" href=\"http://www.buildingpartners.com/\" rel=\"nofollow\" target=\"_blank\">Building Partners</a>,\n",
       " <a class=\"Contact__NameContainer-sc-3d01ca-0 dUWYFm\" data-test=\"sl.website\" href=\"http://www.buildingpartners.com/\" rel=\"nofollow\" target=\"_blank\">Building Partners</a>,\n",
       " <a class=\"Contact__NameContainer-sc-3d01ca-0 dUWYFm\" data-test=\"sl.website\" href=\"http://www.buildingpartners.com/\" rel=\"nofollow\" target=\"_blank\">Building Partners</a>,\n",
       " <a class=\"Contact__NameContainer-sc-3d01ca-0 dUWYFm\" data-test=\"sl.website\" href=\"http://www.bosetta-immobilier.com/\" rel=\"nofollow\" target=\"_blank\">Bosetta Immobilier</a>,\n",
       " <a class=\"Contact__NameContainer-sc-3d01ca-0 dUWYFm\" data-test=\"sl.website\" href=\"https://www.barnes-paris.com/\" rel=\"nofollow\" target=\"_blank\">Barnes Courcelles</a>,\n",
       " <a class=\"Contact__NameContainer-sc-3d01ca-0 dUWYFm\" data-test=\"sl.website\" href=\"http://www.danielfeau.com/\" rel=\"nofollow\" target=\"_blank\">Daniel Féau Plaine Monceau</a>,\n",
       " <a class=\"Contact__NameContainer-sc-3d01ca-0 dUWYFm\" data-test=\"sl.website\" href=\"https://www.barnes-paris.com/\" rel=\"nofollow\" target=\"_blank\">Barnes Courcelles</a>,\n",
       " <a class=\"Contact__NameContainer-sc-3d01ca-0 dUWYFm\" data-test=\"sl.website\" href=\"http://www.agenceprincipaleparis18.com/\" rel=\"nofollow\" target=\"_blank\">Agence Principale</a>,\n",
       " <a class=\"Contact__NameContainer-sc-3d01ca-0 dUWYFm\" data-test=\"sl.website\" href=\"http://www.agencessaintferdinand.com/\" rel=\"nofollow\" target=\"_blank\">Saint Ferdinand Courcelles</a>,\n",
       " <a class=\"Contact__NameContainer-sc-3d01ca-0 dUWYFm\" data-test=\"sl.website\" href=\"http://www.squares-international.com/\" rel=\"nofollow\" target=\"_blank\">Square’s International</a>,\n",
       " <a class=\"Contact__NameContainer-sc-3d01ca-0 dUWYFm\" data-test=\"sl.website\" href=\"http://www.impact-immo.com/\" rel=\"nofollow\" target=\"_blank\">Agence Impact Immo</a>,\n",
       " <a class=\"Contact__NameContainer-sc-3d01ca-0 dUWYFm\" data-test=\"sl.website\" href=\"http://www.squares-international.com/\" rel=\"nofollow\" target=\"_blank\">Square’s International</a>]"
      ]
     },
     "execution_count": 4,
     "metadata": {},
     "output_type": "execute_result"
    }
   ],
   "source": [
    "soup = BeautifulSoup(r.text, \"html.parser\")\n",
    "biens_html=soup.find_all(\"a\", {\"class\":\"Contact__NameContainer-sc-3d01ca-0 dUWYFm\"})\n",
    "biens_html"
   ]
  },
  {
   "cell_type": "markdown",
   "id": "ca653f95",
   "metadata": {},
   "source": [
    "##### Premier problème: il ne récupère pas le div d'IAd France/ Perrine Malinvaud, en position 19 sur la page seloger. Pourtant la classe \"Contact__NameContainer-sc-3d01ca-0 dUWYFm\" est la même pour tous les noms d'agence."
   ]
  },
  {
   "cell_type": "markdown",
   "id": "337016ee",
   "metadata": {},
   "source": [
    "### Trouver le nombre de sous-pages"
   ]
  },
  {
   "cell_type": "code",
   "execution_count": 5,
   "id": "faa05f47",
   "metadata": {
    "scrolled": true
   },
   "outputs": [
    {
     "data": {
      "text/plain": [
       "[<ul class=\"SimplePagination__SimplePaginationContainer-sc-1xh27g4-0 bREhzg\" data-test=\"sl.simplepagination-container\"><li class=\"active\"><a href=\"/list.htm?projects=2%2C5&amp;types=1%2C2&amp;natures=1%2C2%2C4&amp;places=%5B%7B%22inseeCodes%22%3A%5B750117%5D%7D%5D&amp;price=1000000%2F1500000&amp;surface=100%2FNaN&amp;enterprise=0&amp;qsVersion=1.0\">1</a></li><li class=\"\"><a href=\"/list.htm?projects=2%2C5&amp;types=1%2C2&amp;natures=1%2C2%2C4&amp;places=%5B%7B%22inseeCodes%22%3A%5B750117%5D%7D%5D&amp;price=1000000%2F1500000&amp;surface=100%2FNaN&amp;enterprise=0&amp;qsVersion=1.0&amp;LISTING-LISTpg=2\">2</a></li><li class=\"\"><a href=\"/list.htm?projects=2%2C5&amp;types=1%2C2&amp;natures=1%2C2%2C4&amp;places=%5B%7B%22inseeCodes%22%3A%5B750117%5D%7D%5D&amp;price=1000000%2F1500000&amp;surface=100%2FNaN&amp;enterprise=0&amp;qsVersion=1.0&amp;LISTING-LISTpg=3\">3</a></li><li class=\"\"><a href=\"/list.htm?projects=2%2C5&amp;types=1%2C2&amp;natures=1%2C2%2C4&amp;places=%5B%7B%22inseeCodes%22%3A%5B750117%5D%7D%5D&amp;price=1000000%2F1500000&amp;surface=100%2FNaN&amp;enterprise=0&amp;qsVersion=1.0&amp;LISTING-LISTpg=4\">4</a></li><li class=\"\"><a href=\"/list.htm?projects=2%2C5&amp;types=1%2C2&amp;natures=1%2C2%2C4&amp;places=%5B%7B%22inseeCodes%22%3A%5B750117%5D%7D%5D&amp;price=1000000%2F1500000&amp;surface=100%2FNaN&amp;enterprise=0&amp;qsVersion=1.0&amp;LISTING-LISTpg=5\">5</a></li><li class=\"next\"><a href=\"/list.htm?projects=2%2C5&amp;types=1%2C2&amp;natures=1%2C2%2C4&amp;places=%5B%7B%22inseeCodes%22%3A%5B750117%5D%7D%5D&amp;price=1000000%2F1500000&amp;surface=100%2FNaN&amp;enterprise=0&amp;qsVersion=1.0&amp;LISTING-LISTpg=2\">Suivant<i class=\"fi fi-chevron-right\"></i></a></li></ul>]"
      ]
     },
     "execution_count": 5,
     "metadata": {},
     "output_type": "execute_result"
    }
   ],
   "source": [
    "liste_page_html=soup.find_all(\"ul\", {\"class\":\"SimplePagination__SimplePaginationContainer-sc-1xh27g4-0 bREhzg\"})\n",
    "liste_page_html"
   ]
  },
  {
   "cell_type": "code",
   "execution_count": 6,
   "id": "abd0febb",
   "metadata": {},
   "outputs": [
    {
     "data": {
      "text/plain": [
       "[<li><a class=\"\" href=\"//www.seloger.com/vente.htm#?BD=Head_AC_Vente_2\" target=\"_self\">Appartement ou Maison</a></li>,\n",
       " <li><a class=\"\" href=\"//www.selogerneuf.com/#?CMP=INT-HeadSL-AC9\" rel=\"noreferrer noopener\" target=\"_blank\">Neuf</a></li>,\n",
       " <li><a class=\"\" href=\"https://www.bellesdemeures.com/#?CMP=INT_SL_Header\" rel=\"noreferrer noopener\" target=\"_blank\">Bien d'exception</a></li>,\n",
       " <li><a class=\"\" href=\"https://www.seloger-construire.com/projet-construction/terrain/pays/france/#?CMP=INT_AC_CMI_1\" rel=\"noreferrer noopener\" target=\"_blank\">Terrain</a></li>,\n",
       " <li><a class=\"\" href=\"//www.seloger.com/viagers.htm#?BD=Head_AC_Viager_6\" target=\"_self\">Viager</a></li>,\n",
       " <li><a class=\"\" href=\"https://bureaux-commerces.seloger.com/#?CMP=INT_Head_AC_Bureau_7\" target=\"_self\">Bureaux &amp; Commerces</a></li>,\n",
       " <li><a class=\"\" href=\"//www.seloger.com/estimation-immobiliere.html#?m=header-acheter-estimation_immo\" target=\"_self\">Estimation immobilière</a></li>,\n",
       " <li><a class=\"\" href=\"//www.seloger.com/prix-de-l-immo/vente/pays/france.htm#?BD=Head_AC_PrixImm_8\" target=\"_self\">Prix au m²</a></li>,\n",
       " <li><a class=\"\" href=\"//www.seloger.com/biens-vendus#?m=header-acheter-derniers_bien_vendus\" target=\"_self\">Derniers biens vendus</a></li>,\n",
       " <li><a class=\"c-red-button-wrapper\" href=\"//www.seloger.com/credit-immobilier/simulateur-capacite-demprunt/#?m=header-acheter-capacite_emprunt\" target=\"_self\">Calculette : capacité d'emprunt </a></li>,\n",
       " <li><a class=\"\" href=\"https://edito.seloger.com/conseils-d-experts/acheter/les-check-lists-avant-d-acheter-votre-appartement-sommaire.html#?BD=Head_AC_Ed_11\" target=\"_self\">Checklist de l'acheteur</a></li>,\n",
       " <li><a class=\"\" href=\"https://edito.seloger.com/rubrique/financement/mesures-fiscales#?BD=Head_AC_Ed_12\" target=\"_self\">Défiscalisation</a></li>,\n",
       " <li><a class=\"\" href=\"//www.seloger.com/annuaire/#?BD=Head_AC_Annuaire_13\" target=\"_self\">Choisir un agent</a></li>,\n",
       " <li><a class=\"c-red-button-wrapper\" href=\"//www.seloger.com/credit-immobilier/mon-financement/#?m=header-acheter-credit\" target=\"_self\">Votre crédit : comparez les offres</a></li>,\n",
       " <li><a class=\"\" href=\"//www.seloger.com/location.htm#?BD=Head_LO_Loc_2\" target=\"_self\">Appartement ou Maison</a></li>,\n",
       " <li><a class=\"\" href=\"https://www.bellesdemeures.com/#?CMP=INT_SL_Header\" rel=\"noreferrer noopener\" target=\"_blank\">Bien d'exception</a></li>,\n",
       " <li><a class=\"\" href=\"//www.seloger.com/locations-temporaires.htm#?BD=Head_LO_Temp_5\" target=\"_self\">Location temporaire</a></li>,\n",
       " <li><a class=\"\" href=\"//vacances.seloger.com/#?CMP=INT_Head_LO_6\" rel=\"noreferrer noopener\" target=\"_blank\">Location de vacances</a></li>,\n",
       " <li><a class=\"\" href=\"https://bureaux-commerces.seloger.com/#?CMP=INT_Head_LO_7\" target=\"_self\">Bureaux &amp; Commerces</a></li>,\n",
       " <li><a class=\"\" href=\"//www.seloger.com/prix-de-l-immo/location/pays/france.htm#?m=header-louer-estimation_prix_loyers\" target=\"_self\">Estimation prix des loyers</a></li>,\n",
       " <li><a class=\"\" href=\"https://edito.seloger.com/conseils-d-experts/louer/les-check-lists-avant-de-louer-un-appartement-sommaire.html#?BD=Head_LO_Ed_8\" target=\"_self\">Check-lists location</a></li>,\n",
       " <li><a class=\"\" href=\"https://edito.seloger.com/preparer-votre-dossier-de-location-book-4215.html#?BD=Head_LO_Ed_9\" target=\"_self\">Dossier de location</a></li>,\n",
       " <li><a class=\"c-red-button-wrapper\" href=\"https://www.seloger.com/mettre-en-location.htm#?BD=Head_LO_Part_10\" target=\"_self\">Propriétaire ? Déposez votre annonce </a></li>,\n",
       " <li><a class=\"\" href=\"//www.selogerneuf.com/#?CMP=INT-HeadSL-Const9\" rel=\"noreferrer noopener\" target=\"_blank\">Logements neufs</a></li>,\n",
       " <li><a class=\"\" href=\"https://www.seloger-construire.com/projet-construction/maison-terrain/pays/france/#?CMP=INT_CO_CMI_3\" rel=\"noreferrer noopener\" target=\"_blank\">Terrain + Maison</a></li>,\n",
       " <li><a class=\"\" href=\"https://www.seloger-construire.com/projet-construction/terrain/pays/france/#?CMP=INT_CO_CMI_5\" rel=\"noreferrer noopener\" target=\"_blank\">Terrain constructible</a></li>,\n",
       " <li><a class=\"\" href=\"https://www.seloger-construire.com/projet-construction/terrain-viabilise/pays/france/#?CMP=INT_CO_CMI_4\" rel=\"noreferrer noopener\" target=\"_blank\">Terrain viabilisé</a></li>,\n",
       " <li><a class=\"\" href=\"https://www.seloger-construire.com/projet-construction/maison-neuve/pays/france/#?CMP=INT_CO_CMI_6\" rel=\"noreferrer noopener\" target=\"_blank\">Modèles de maison</a></li>,\n",
       " <li><a class=\"\" href=\"https://www.seloger-construire.com/plan-maison#?CMP=INT_CO_CMI_2\" rel=\"noreferrer noopener\" target=\"_blank\">Plan de maison</a></li>,\n",
       " <li><a class=\"\" href=\"https://www.seloger-construire.com/annuaire/#?cmp=INT_CO_CMI_7\" rel=\"noreferrer noopener\" target=\"_blank\">Constructeurs</a></li>,\n",
       " <li><a class=\"\" href=\"https://edito.selogerneuf.com/financement/mesures-fiscales/loi-pinel-le-guide-pour-tout-savoir-sur-la-defiscalisation-dossier-1816.html#?BD=Head_CO_Ed_8\" rel=\"noreferrer noopener\" target=\"_blank\">Dossier Loi Pinel</a></li>,\n",
       " <li><a class=\"\" href=\"//www.seloger.com/credit-immobilier/mon-financement/#?m=header-construire-simulateur\" target=\"_self\">Simulateur de financement</a></li>,\n",
       " <li><a class=\"\" href=\" https://bureaux-commerces.seloger.com/achat/bureau#?CMP=INT_SLBC_2\" rel=\"noreferrer noopener\" target=\"_blank\">Bureau</a></li>,\n",
       " <li><a class=\"\" href=\"https://bureaux-commerces.seloger.com/achat/fonds-de-commerce#?CMP=INT_SLBC_3\" rel=\"noreferrer noopener\" target=\"_blank\">Fonds de commerce</a></li>,\n",
       " <li><a class=\"\" href=\"https://bureaux-commerces.seloger.com/achat/boutique#?CMP=INT_SLBC_4\" rel=\"noreferrer noopener\" target=\"_blank\">Boutique</a></li>,\n",
       " <li><a class=\"\" href=\" https://bureaux-commerces.seloger.com/location/bureau#?CMP=INT_SLBC_5\" rel=\"noreferrer noopener\" target=\"_blank\">Bureau</a></li>,\n",
       " <li><a class=\"\" href=\"https://bureaux-commerces.seloger.com/location/coworking#?CMP=INT_SLBC_6\" rel=\"noreferrer noopener\" target=\"_blank\">Espace de coworking</a></li>,\n",
       " <li><a class=\"\" href=\"https://bureaux-commerces.seloger.com/location/local-d-activites-entrepot#?CMP=INT_SLBC_7\" rel=\"noreferrer noopener\" target=\"_blank\">Entrepôt </a></li>,\n",
       " <li><a class=\"\" href=\"//www.seloger.com/credit-immobilier/mon-financement/#?m=header-emprunter-credit\" target=\"_self\">Votre crédit : comparez les offres</a></li>,\n",
       " <li><a class=\"\" href=\"//www.seloger.com/credit-immobilier/mon-assurance-emprunteur?m=header-emprunter-assurance_pret\" rel=\"noreferrer noopener\" target=\"_blank\">Assurance de prêt : en savoir plus</a></li>,\n",
       " <li><a class=\"\" href=\"//www.seloger.com/credit-immobilier/simulation-loi-pinel?m=header-emprunter-investir\" target=\"_self\">Investir</a></li>,\n",
       " <li><a class=\"\" href=\"//www.seloger.com/credit-immobilier/simulateur-capacite-demprunt/#?m=header-emprunter-capacite_emprunt\" target=\"_self\">Votre capacité d'emprunt</a></li>,\n",
       " <li><a class=\"\" href=\"//www.seloger.com/credit-immobilier/simulateur-mensualites/#?m=header-emprunter-mensualites\" target=\"_self\">Calculez vos mensualités</a></li>,\n",
       " <li><a class=\"\" href=\"//www.seloger.com/credit-immobilier/simulateur-frais-notaire/#?m=header-emprunter-frais_notaire\" target=\"_self\">Estimez vos frais de notaire</a></li>,\n",
       " <li><a class=\"\" href=\"//www.seloger.com/demenagement_formulaire?m=header-emmenager-organiser\" rel=\"noreferrer noopener\" target=\"_blank\">Organisez votre déménagement</a></li>,\n",
       " <li><a class=\"\" href=\"//www.seloger.com/demenagement.htm#?BD=Header_check_list\" target=\"_self\">Votre check-list déménagement</a></li>,\n",
       " <li><a class=\"\" href=\"https://particulier.edf.fr/fr/accueil/autres-pages/demenagement-edf.html?utm_medium=display&amp;utm_source=seloger&amp;utm_campaign=partenariat_media&amp;edf_support=site_seloger_header_choix_offre\" rel=\"noreferrer noopener\" target=\"_blank\">Energie : choisissez votre offre</a></li>,\n",
       " <li><a class=\"c-red-button-wrapper\" href=\"https://particulier.edf.fr/fr/accueil/autres-pages/demenagement-edf.html?utm_medium=display&amp;utm_source=seloger&amp;utm_campaign=partenariat_media&amp;edf_support=site_seloger_header_demenagez_facile\" rel=\"noreferrer noopener\" target=\"_blank\">EDF : déménagez facile</a></li>,\n",
       " <li><a class=\"\" href=\"https://edito.seloger.com/preparer-book-13835.html\" rel=\"noreferrer noopener\" target=\"_blank\">Préparer la vente</a></li>,\n",
       " <li><a class=\"\" href=\"https://edito.seloger.com/je-me-fais-une-idee-des-prix-book-13865.html\" rel=\"noreferrer noopener\" target=\"_blank\">Définir le prix de vente</a></li>,\n",
       " <li><a class=\"\" href=\"https://edito.seloger.com/organiser-book-13841.html\" rel=\"noreferrer noopener\" target=\"_blank\">Mettre en vente</a></li>,\n",
       " <li><a class=\"\" href=\"https://edito.seloger.com/finaliser-book-13844.html\" rel=\"noreferrer noopener\" target=\"_blank\">Trouver le bon acheteur</a></li>,\n",
       " <li><a class=\"\" href=\"https://edito.seloger.com/vendre-book-13838.html\" rel=\"noreferrer noopener\" target=\"_blank\">Conclure la vente</a></li>,\n",
       " <li><a class=\"\" href=\"//www.seloger.com/estimation-immobiliere.html#?m=header-vendre-estimation_immobiliere\" target=\"_self\">Estimation immobilière</a></li>,\n",
       " <li><a class=\"\" href=\"//www.seloger.com/prix-de-l-immo/vente/pays/france.htm#?m=header-vendre-prix_immo\" target=\"_self\">Carte des prix de l'immobilier</a></li>,\n",
       " <li><a class=\"\" href=\"//www.seloger.com/biens-vendus#?m=header-vendre-derniers_bien_vendus\" target=\"_self\">Historique des biens vendus</a></li>,\n",
       " <li><a class=\"\" href=\"//www.seloger.com/annuaire/?#m=header-vendre-annuaire\" target=\"_self\">Annuaire des professionnels</a></li>,\n",
       " <li>5 p</li>,\n",
       " <li>3 ch</li>,\n",
       " <li>117 m²</li>,\n",
       " <li>5 p</li>,\n",
       " <li>3 ch</li>,\n",
       " <li>103 m²</li>,\n",
       " <li>5 p</li>,\n",
       " <li>3 ch</li>,\n",
       " <li>110 m²</li>,\n",
       " <li>5 p</li>,\n",
       " <li>3 ch</li>,\n",
       " <li>120 m²</li>,\n",
       " <li>3 p</li>,\n",
       " <li>2 ch</li>,\n",
       " <li>100 m²</li>,\n",
       " <li><a>16 biens en vente</a></li>,\n",
       " <li>5 p</li>,\n",
       " <li>4 ch</li>,\n",
       " <li>104 m²</li>,\n",
       " <li>5 p</li>,\n",
       " <li>3 ch</li>,\n",
       " <li>120 m²</li>,\n",
       " <li>4 p</li>,\n",
       " <li>2 ch</li>,\n",
       " <li>100 m²</li>,\n",
       " <li>3 p</li>,\n",
       " <li>2 ch</li>,\n",
       " <li>100 m²</li>,\n",
       " <li>3 ch</li>,\n",
       " <li>5 p</li>,\n",
       " <li>104,85 m²</li>,\n",
       " <li>5 p</li>,\n",
       " <li>3 ch</li>,\n",
       " <li>103 m²</li>,\n",
       " <li>4 p</li>,\n",
       " <li>3 ch</li>,\n",
       " <li>115 m²</li>,\n",
       " <li>5 p</li>,\n",
       " <li>3 ch</li>,\n",
       " <li>106 m²</li>,\n",
       " <li>4 p</li>,\n",
       " <li>3 ch</li>,\n",
       " <li>101 m²</li>,\n",
       " <li>5 p</li>,\n",
       " <li>2 ch</li>,\n",
       " <li>103 m²</li>,\n",
       " <li>4 p</li>,\n",
       " <li>3 ch</li>,\n",
       " <li>130 m²</li>,\n",
       " <li>4 p</li>,\n",
       " <li>2 ch</li>,\n",
       " <li>130 m²</li>,\n",
       " <li>4 p</li>,\n",
       " <li>3 ch</li>,\n",
       " <li>129 m²</li>,\n",
       " <li><a>28 biens en vente</a></li>,\n",
       " <li>4 p</li>,\n",
       " <li>3 ch</li>,\n",
       " <li>108 m²</li>,\n",
       " <li>5 p</li>,\n",
       " <li>3 ch</li>,\n",
       " <li>108 m²</li>,\n",
       " <li>5 p</li>,\n",
       " <li>3 ch</li>,\n",
       " <li>107 m²</li>,\n",
       " <li>5 p</li>,\n",
       " <li>3 ch</li>,\n",
       " <li>105 m²</li>,\n",
       " <li>3 ch</li>,\n",
       " <li>4 p</li>,\n",
       " <li>131,5 m²</li>,\n",
       " <li>4 p</li>,\n",
       " <li>2 ch</li>,\n",
       " <li>114 m²</li>,\n",
       " <li>5 p</li>,\n",
       " <li>3 ch</li>,\n",
       " <li>118 m²</li>,\n",
       " <li>5 p</li>,\n",
       " <li>3 ch</li>,\n",
       " <li>132 m²</li>,\n",
       " <li>5 p</li>,\n",
       " <li>3 ch</li>,\n",
       " <li>118 m²</li>,\n",
       " <li class=\"\"><a href=\"/list.htm?projects=2%2C5&amp;types=1%2C2&amp;natures=1%2C2%2C4&amp;places=%5B%7B%22inseeCodes%22%3A%5B750117%5D%7D%5D&amp;price=1000000%2F1500000&amp;surface=100%2FNaN&amp;enterprise=0&amp;qsVersion=1.0&amp;LISTING-LISTpg=2\">2</a></li>,\n",
       " <li class=\"\"><a href=\"/list.htm?projects=2%2C5&amp;types=1%2C2&amp;natures=1%2C2%2C4&amp;places=%5B%7B%22inseeCodes%22%3A%5B750117%5D%7D%5D&amp;price=1000000%2F1500000&amp;surface=100%2FNaN&amp;enterprise=0&amp;qsVersion=1.0&amp;LISTING-LISTpg=3\">3</a></li>,\n",
       " <li class=\"\"><a href=\"/list.htm?projects=2%2C5&amp;types=1%2C2&amp;natures=1%2C2%2C4&amp;places=%5B%7B%22inseeCodes%22%3A%5B750117%5D%7D%5D&amp;price=1000000%2F1500000&amp;surface=100%2FNaN&amp;enterprise=0&amp;qsVersion=1.0&amp;LISTING-LISTpg=4\">4</a></li>,\n",
       " <li class=\"\"><a href=\"/list.htm?projects=2%2C5&amp;types=1%2C2&amp;natures=1%2C2%2C4&amp;places=%5B%7B%22inseeCodes%22%3A%5B750117%5D%7D%5D&amp;price=1000000%2F1500000&amp;surface=100%2FNaN&amp;enterprise=0&amp;qsVersion=1.0&amp;LISTING-LISTpg=5\">5</a></li>]"
      ]
     },
     "execution_count": 6,
     "metadata": {},
     "output_type": "execute_result"
    }
   ],
   "source": [
    "liste_page_html=soup.find_all(\"li\", {\"class\":\"\"})\n",
    "liste_page_html"
   ]
  },
  {
   "cell_type": "code",
   "execution_count": 7,
   "id": "ce9d73fd",
   "metadata": {},
   "outputs": [
    {
     "data": {
      "text/plain": [
       "'5'"
      ]
     },
     "execution_count": 7,
     "metadata": {},
     "output_type": "execute_result"
    }
   ],
   "source": [
    "nombre_de_pages=liste_page_html[-1]\n",
    "nombre_de_pages=nombre_de_pages.string\n",
    "nombre_de_pages"
   ]
  },
  {
   "cell_type": "markdown",
   "id": "a1375d67",
   "metadata": {},
   "source": [
    "### Définir le lien de base pour chaque page"
   ]
  },
  {
   "cell_type": "code",
   "execution_count": 8,
   "id": "113a03c5",
   "metadata": {},
   "outputs": [],
   "source": [
    "Next=soup.find_all(\"li\", {\"class\":\"next\"})\n",
    "lien_base=Next[0].find_all('a')[0].get('href')"
   ]
  },
  {
   "cell_type": "code",
   "execution_count": 9,
   "id": "3115ac47",
   "metadata": {
    "scrolled": true
   },
   "outputs": [
    {
     "data": {
      "text/plain": [
       "'/list.htm?projects=2%2C5&types=1%2C2&natures=1%2C2%2C4&places=%5B%7B%22inseeCodes%22%3A%5B750117%5D%7D%5D&price=1000000%2F1500000&surface=100%2FNaN&enterprise=0&qsVersion=1.0&LISTING-LISTpg='"
      ]
     },
     "execution_count": 9,
     "metadata": {},
     "output_type": "execute_result"
    }
   ],
   "source": [
    "lien_base=lien_base.rstrip(lien_base[-1])\n",
    "lien_base"
   ]
  },
  {
   "cell_type": "markdown",
   "id": "54a9ea88",
   "metadata": {},
   "source": [
    "### Boucle pour aller chercher tous les noms d'agence qui apparaissent sur chaque sous-page"
   ]
  },
  {
   "cell_type": "code",
   "execution_count": 17,
   "id": "80cbed07",
   "metadata": {
    "scrolled": false
   },
   "outputs": [
    {
     "name": "stdout",
     "output_type": "stream",
     "text": [
      "len(biens_list) =  26\n",
      "['Barnes Courcelles', 'Building Partners', 'Building Partners', 'Building Partners', 'Iad France / Sébastien Clausse', 'Building Partners', 'Urban Success', 'Stéphane Plaza Immobilier Paris 17 Ème Batignolles', 'Building Partners', 'Agence Principale', 'Building Partners', 'Square’s International', 'Daniel Feau Ternes', 'Square’s International', 'Building Partners', 'Building Partners', 'Building Partners', 'Bosetta Immobilier', 'Barnes Courcelles', 'Daniel Féau Plaine Monceau', 'Barnes Courcelles', 'Keller Williams Fortis Immo', 'Saint Ferdinand Courcelles', 'Square’s International', 'Agence Impact Immo', 'Square’s International']\n",
      "len(biens_list) =  49\n",
      "['Barnes Courcelles', 'Building Partners', 'Building Partners', 'Building Partners', 'Iad France / Sébastien Clausse', 'Building Partners', 'Urban Success', 'Stéphane Plaza Immobilier Paris 17 Ème Batignolles', 'Building Partners', 'Agence Principale', 'Building Partners', 'Square’s International', 'Daniel Feau Ternes', 'Square’s International', 'Building Partners', 'Building Partners', 'Building Partners', 'Bosetta Immobilier', 'Barnes Courcelles', 'Daniel Féau Plaine Monceau', 'Barnes Courcelles', 'Keller Williams Fortis Immo', 'Saint Ferdinand Courcelles', 'Square’s International', 'Agence Impact Immo', 'Square’s International', 'Guy Hoquet Prestige', 'Etude Amboise Immobilier', 'F.g.d.i Pereire', 'Odeon Immobilier', 'Breteuil Immobilier', 'Consultant Immobilier', 'Century 21 Agence Des Ternes', \"Paris Ouest Sotheby's Ir Etoile - Monceau\", 'Saint Ferdinand Immobilier', 'Imop', 'Efficity - Paris 17 - Anne De Poncins', 'Laforet Immobilier Villiers', 'Saint Ferdinand Courcelles', 'Les Loges Immobilier', 'Arthurimmo Paris 5', 'Paris Neuilly Immobilier', \"Call'immo\", 'Vaneau Saint Honore', 'Propriétés Parisiennes', 'Emile Garcin Paris Rive Droite', 'Faurie Immobilier', 'Saint Ferdinand Villiers', 'Bnp Pre Chh -  Vente Lot Par Lot']\n",
      "len(biens_list) =  71\n",
      "['Barnes Courcelles', 'Building Partners', 'Building Partners', 'Building Partners', 'Iad France / Sébastien Clausse', 'Building Partners', 'Urban Success', 'Stéphane Plaza Immobilier Paris 17 Ème Batignolles', 'Building Partners', 'Agence Principale', 'Building Partners', 'Square’s International', 'Daniel Feau Ternes', 'Square’s International', 'Building Partners', 'Building Partners', 'Building Partners', 'Bosetta Immobilier', 'Barnes Courcelles', 'Daniel Féau Plaine Monceau', 'Barnes Courcelles', 'Keller Williams Fortis Immo', 'Saint Ferdinand Courcelles', 'Square’s International', 'Agence Impact Immo', 'Square’s International', 'Guy Hoquet Prestige', 'Etude Amboise Immobilier', 'F.g.d.i Pereire', 'Odeon Immobilier', 'Breteuil Immobilier', 'Consultant Immobilier', 'Century 21 Agence Des Ternes', \"Paris Ouest Sotheby's Ir Etoile - Monceau\", 'Saint Ferdinand Immobilier', 'Imop', 'Efficity - Paris 17 - Anne De Poncins', 'Laforet Immobilier Villiers', 'Saint Ferdinand Courcelles', 'Les Loges Immobilier', 'Arthurimmo Paris 5', 'Paris Neuilly Immobilier', \"Call'immo\", 'Vaneau Saint Honore', 'Propriétés Parisiennes', 'Emile Garcin Paris Rive Droite', 'Faurie Immobilier', 'Saint Ferdinand Villiers', 'Bnp Pre Chh -  Vente Lot Par Lot', 'Lb Transactions', 'Imax Paris', 'Saint Ferdinand Courcelles', 'Les Loges Immobilier', 'Arthurimmo Paris 5', 'Paris Neuilly Immobilier', \"Call'immo\", 'Terrasses En Vue. Com', 'Agence Principale', 'Iad France / Myriam Fathi', 'Guy Hoquet Paris 16 Victor Hugo', 'Laforet Immobilier Villiers', 'Iad France / Christophe Farman', 'Nouallet Immobilier', 'Lb Transactions', 'Paris Neuilly Immobilier', 'Urban Success', 'Keller Williams Fortis Immo', 'Gabrielle Dorfmann Immobilier', 'Eylau Immobilier', 'Saint Ferdinand Batignolles', 'Breteuil Immobilier']\n",
      "len(biens_list) =  89\n",
      "['Barnes Courcelles', 'Building Partners', 'Building Partners', 'Building Partners', 'Iad France / Sébastien Clausse', 'Building Partners', 'Urban Success', 'Stéphane Plaza Immobilier Paris 17 Ème Batignolles', 'Building Partners', 'Agence Principale', 'Building Partners', 'Square’s International', 'Daniel Feau Ternes', 'Square’s International', 'Building Partners', 'Building Partners', 'Building Partners', 'Bosetta Immobilier', 'Barnes Courcelles', 'Daniel Féau Plaine Monceau', 'Barnes Courcelles', 'Keller Williams Fortis Immo', 'Saint Ferdinand Courcelles', 'Square’s International', 'Agence Impact Immo', 'Square’s International', 'Guy Hoquet Prestige', 'Etude Amboise Immobilier', 'F.g.d.i Pereire', 'Odeon Immobilier', 'Breteuil Immobilier', 'Consultant Immobilier', 'Century 21 Agence Des Ternes', \"Paris Ouest Sotheby's Ir Etoile - Monceau\", 'Saint Ferdinand Immobilier', 'Imop', 'Efficity - Paris 17 - Anne De Poncins', 'Laforet Immobilier Villiers', 'Saint Ferdinand Courcelles', 'Les Loges Immobilier', 'Arthurimmo Paris 5', 'Paris Neuilly Immobilier', \"Call'immo\", 'Vaneau Saint Honore', 'Propriétés Parisiennes', 'Emile Garcin Paris Rive Droite', 'Faurie Immobilier', 'Saint Ferdinand Villiers', 'Bnp Pre Chh -  Vente Lot Par Lot', 'Lb Transactions', 'Imax Paris', 'Saint Ferdinand Courcelles', 'Les Loges Immobilier', 'Arthurimmo Paris 5', 'Paris Neuilly Immobilier', \"Call'immo\", 'Terrasses En Vue. Com', 'Agence Principale', 'Iad France / Myriam Fathi', 'Guy Hoquet Paris 16 Victor Hugo', 'Laforet Immobilier Villiers', 'Iad France / Christophe Farman', 'Nouallet Immobilier', 'Lb Transactions', 'Paris Neuilly Immobilier', 'Urban Success', 'Keller Williams Fortis Immo', 'Gabrielle Dorfmann Immobilier', 'Eylau Immobilier', 'Saint Ferdinand Batignolles', 'Breteuil Immobilier', 'Agence Sadone', 'France Lodge Immo+', \"Paris Ouest Sotheby's Ir Etoile - Monceau\", 'Iconic Paris Immobilier', 'Building Partners', 'Imax Paris', 'Kw Monceau', 'Era Villiers', 'Agence Principale', 'Espaces Atypiques Paris Ouest', 'Real Commercialisation', 'Belmont Immobilier', 'Courcelles Immobilier', 'Asinvestimmo', 'Keller Williams Fortis Immo', 'Fair Play Immobilier', 'Bosetta Immobilier', 'Foncia Transaction Paris Levis']\n",
      "len(biens_list) =  94\n",
      "['Barnes Courcelles', 'Building Partners', 'Building Partners', 'Building Partners', 'Iad France / Sébastien Clausse', 'Building Partners', 'Urban Success', 'Stéphane Plaza Immobilier Paris 17 Ème Batignolles', 'Building Partners', 'Agence Principale', 'Building Partners', 'Square’s International', 'Daniel Feau Ternes', 'Square’s International', 'Building Partners', 'Building Partners', 'Building Partners', 'Bosetta Immobilier', 'Barnes Courcelles', 'Daniel Féau Plaine Monceau', 'Barnes Courcelles', 'Keller Williams Fortis Immo', 'Saint Ferdinand Courcelles', 'Square’s International', 'Agence Impact Immo', 'Square’s International', 'Guy Hoquet Prestige', 'Etude Amboise Immobilier', 'F.g.d.i Pereire', 'Odeon Immobilier', 'Breteuil Immobilier', 'Consultant Immobilier', 'Century 21 Agence Des Ternes', \"Paris Ouest Sotheby's Ir Etoile - Monceau\", 'Saint Ferdinand Immobilier', 'Imop', 'Efficity - Paris 17 - Anne De Poncins', 'Laforet Immobilier Villiers', 'Saint Ferdinand Courcelles', 'Les Loges Immobilier', 'Arthurimmo Paris 5', 'Paris Neuilly Immobilier', \"Call'immo\", 'Vaneau Saint Honore', 'Propriétés Parisiennes', 'Emile Garcin Paris Rive Droite', 'Faurie Immobilier', 'Saint Ferdinand Villiers', 'Bnp Pre Chh -  Vente Lot Par Lot', 'Lb Transactions', 'Imax Paris', 'Saint Ferdinand Courcelles', 'Les Loges Immobilier', 'Arthurimmo Paris 5', 'Paris Neuilly Immobilier', \"Call'immo\", 'Terrasses En Vue. Com', 'Agence Principale', 'Iad France / Myriam Fathi', 'Guy Hoquet Paris 16 Victor Hugo', 'Laforet Immobilier Villiers', 'Iad France / Christophe Farman', 'Nouallet Immobilier', 'Lb Transactions', 'Paris Neuilly Immobilier', 'Urban Success', 'Keller Williams Fortis Immo', 'Gabrielle Dorfmann Immobilier', 'Eylau Immobilier', 'Saint Ferdinand Batignolles', 'Breteuil Immobilier', 'Agence Sadone', 'France Lodge Immo+', \"Paris Ouest Sotheby's Ir Etoile - Monceau\", 'Iconic Paris Immobilier', 'Building Partners', 'Imax Paris', 'Kw Monceau', 'Era Villiers', 'Agence Principale', 'Espaces Atypiques Paris Ouest', 'Real Commercialisation', 'Belmont Immobilier', 'Courcelles Immobilier', 'Asinvestimmo', 'Keller Williams Fortis Immo', 'Fair Play Immobilier', 'Bosetta Immobilier', 'Foncia Transaction Paris Levis', 'Henri James Immobilier', 'Vaneau 9ème', 'Groupe Mercure Paris - Ile De France', 'Haussmann Prestige Paris', 'Belmont Immobilier']\n"
     ]
    }
   ],
   "source": [
    "biens_list=[]\n",
    "\n",
    "r=requests.get(url,allow_redirects=True, headers=headers)\n",
    "soup = BeautifulSoup(r.text, \"html.parser\")\n",
    "biens_html=soup.find_all(\"a\", {\"class\":\"Contact__NameContainer-sc-3d01ca-0 dUWYFm\"})\n",
    "for biens in biens_html:\n",
    "    biens_list.append(biens.string)\n",
    "print(\"len(biens_list) = \", len(biens_list))\n",
    "print(biens_list)\n",
    "\n",
    "for i in range (2,int(nombre_de_pages)+1):\n",
    "    url_next='https://www.seloger.com' + lien_base+str(i)\n",
    "    r=requests.get(url_next,allow_redirects=True, headers=headers)\n",
    "    soup = BeautifulSoup(r.text, \"html.parser\")\n",
    "    biens_html=soup.find_all(\"a\", {\"class\":\"Contact__NameContainer-sc-3d01ca-0 dUWYFm\"})\n",
    "    for biens in biens_html:\n",
    "        biens_list.append(biens.string)\n",
    "    print(\"len(biens_list) = \", len(biens_list))\n",
    "    print(biens_list)"
   ]
  },
  {
   "cell_type": "markdown",
   "id": "3901d1e7",
   "metadata": {},
   "source": [
    "#### Au total il manque 16 biens."
   ]
  },
  {
   "cell_type": "markdown",
   "id": "26fd5e13",
   "metadata": {},
   "source": [
    "### Test sur la page 2 pour voir quels biens manquent"
   ]
  },
  {
   "cell_type": "code",
   "execution_count": 13,
   "id": "c86c9d83",
   "metadata": {},
   "outputs": [
    {
     "name": "stdout",
     "output_type": "stream",
     "text": [
      "[<a class=\"Contact__NameContainer-sc-3d01ca-0 dUWYFm\" data-test=\"sl.website\" href=\"http://www.guyhoquet-immobilier-paris-16-muette.com/\" rel=\"nofollow\" target=\"_blank\">Guy Hoquet Prestige</a>, <a class=\"Contact__NameContainer-sc-3d01ca-0 dUWYFm\" data-test=\"sl.website\" href=\"http://www.thisse.com/\" rel=\"nofollow\" target=\"_blank\">Etude Amboise Immobilier</a>, <a class=\"Contact__NameContainer-sc-3d01ca-0 dUWYFm\" data-test=\"sl.website\" href=\"http://www.agencepereire.com/\" rel=\"nofollow\" target=\"_blank\">F.g.d.i Pereire</a>, <a class=\"Contact__NameContainer-sc-3d01ca-0 dUWYFm\" data-test=\"sl.website\" href=\"http://www.odeonimmobilier.fr/\" rel=\"nofollow\" target=\"_blank\">Odeon Immobilier</a>, <a class=\"Contact__NameContainer-sc-3d01ca-0 dUWYFm\" data-test=\"sl.website\" href=\"http://www.breteuilimmo.com/\" rel=\"nofollow\" target=\"_blank\">Breteuil Immobilier</a>, <a class=\"Contact__NameContainer-sc-3d01ca-0 dUWYFm\" data-test=\"sl.website\" href=\"http://www.consultants-immobilier.com/\" rel=\"nofollow\" target=\"_blank\">Consultant Immobilier</a>, <a class=\"Contact__NameContainer-sc-3d01ca-0 dUWYFm\" data-test=\"sl.website\" href=\"https://www.century21.fr/trouver_agence/agence/825318752/\" rel=\"nofollow\" target=\"_blank\">Century 21 Agence Des Ternes</a>, <a class=\"Contact__NameContainer-sc-3d01ca-0 dUWYFm\" data-test=\"sl.website\" href=\"http://www.parisouest-sothebysrealty.com/\" rel=\"nofollow\" target=\"_blank\">Paris Ouest Sotheby's Ir Etoile - Monceau</a>, <a class=\"Contact__NameContainer-sc-3d01ca-0 dUWYFm\" data-test=\"sl.website\" href=\"http://www.agencessaintferdinand.com/\" rel=\"nofollow\" target=\"_blank\">Saint Ferdinand Immobilier</a>, <a class=\"Contact__NameContainer-sc-3d01ca-0 dUWYFm\" data-test=\"sl.website\" href=\"http://www.imop.fr/\" rel=\"nofollow\" target=\"_blank\">Imop</a>, <a class=\"Contact__NameContainer-sc-3d01ca-0 dUWYFm\" data-test=\"sl.website\" href=\"https://www.efficity.com/adeponcins\" rel=\"nofollow\" target=\"_blank\">Efficity - Paris 17 - Anne De Poncins</a>, <a class=\"Contact__NameContainer-sc-3d01ca-0 dUWYFm\" data-test=\"sl.website\" href=\"http://www.laforet.com/paris17levis\" rel=\"nofollow\" target=\"_blank\">Laforet Immobilier Villiers</a>, <a class=\"Contact__NameContainer-sc-3d01ca-0 dUWYFm\" data-test=\"sl.website\" href=\"http://www.agencessaintferdinand.com/\" rel=\"nofollow\" target=\"_blank\">Saint Ferdinand Courcelles</a>, <a class=\"Contact__NameContainer-sc-3d01ca-0 dUWYFm\" data-test=\"sl.website\" href=\"http://www.lesloges-immobilier.com/\" rel=\"nofollow\" target=\"_blank\">Les Loges Immobilier</a>, <a class=\"Contact__NameContainer-sc-3d01ca-0 dUWYFm\" data-test=\"sl.website\" href=\"http://www.etudedelagare.com/\" rel=\"nofollow\" target=\"_blank\">Arthurimmo Paris 5</a>, <a class=\"Contact__NameContainer-sc-3d01ca-0 dUWYFm\" data-test=\"sl.website\" href=\"http://www.parisneuillyimmobilier.com/\" rel=\"nofollow\" target=\"_blank\">Paris Neuilly Immobilier</a>, <a class=\"Contact__NameContainer-sc-3d01ca-0 dUWYFm\" data-test=\"sl.website\" href=\"http://www.callimmo.com/\" rel=\"nofollow\" target=\"_blank\">Call'immo</a>, <a class=\"Contact__NameContainer-sc-3d01ca-0 dUWYFm\" data-test=\"sl.website\" href=\"http://www.vaneau.fr/\" rel=\"nofollow\" target=\"_blank\">Vaneau Saint Honore</a>, <a class=\"Contact__NameContainer-sc-3d01ca-0 dUWYFm\" data-test=\"sl.website\" href=\"http://www.proprietesparisiennes-sothebysrealty.com/\" rel=\"nofollow\" target=\"_blank\">Propriétés Parisiennes</a>, <a class=\"Contact__NameContainer-sc-3d01ca-0 dUWYFm\" data-test=\"sl.website\" href=\"http://www.emilegarcin.fr/\" rel=\"nofollow\" target=\"_blank\">Emile Garcin Paris Rive Droite</a>, <a class=\"Contact__NameContainer-sc-3d01ca-0 dUWYFm\" data-test=\"sl.website\" href=\"http://www.faurie-immo.com/\" rel=\"nofollow\" target=\"_blank\">Faurie Immobilier</a>, <a class=\"Contact__NameContainer-sc-3d01ca-0 dUWYFm\" data-test=\"sl.website\" href=\"http://www.agencessaintferdinand.com/\" rel=\"nofollow\" target=\"_blank\">Saint Ferdinand Villiers</a>, <a class=\"Contact__NameContainer-sc-3d01ca-0 dUWYFm\" data-test=\"sl.website\" href=\"http://www.residentiel-ancien.bnpparibas.com/\" rel=\"nofollow\" target=\"_blank\">Bnp Pre Chh -  Vente Lot Par Lot</a>]\n"
     ]
    },
    {
     "data": {
      "text/plain": [
       "23"
      ]
     },
     "execution_count": 13,
     "metadata": {},
     "output_type": "execute_result"
    }
   ],
   "source": [
    "url2='https://www.seloger.com/list.htm?projects=2%2C5&types=1%2C2&natures=1%2C2%2C4&places=%5B%7B%22inseeCodes%22%3A%5B750117%5D%7D%5D&price=1000000%2F1500000&surface=100%2FNaN&enterprise=0&qsVersion=1.0&LISTING-LISTpg=2'\n",
    "r=requests.get(url2,allow_redirects=True,headers=headers)\n",
    "soup = BeautifulSoup(r.text, \"html.parser\")\n",
    "biens_html_page2=soup.find_all(\"a\", {\"class\":\"Contact__NameContainer-sc-3d01ca-0 dUWYFm\"})\n",
    "print(biens_html_page2)\n",
    "len(biens_html_page2)"
   ]
  },
  {
   "cell_type": "markdown",
   "id": "a5b93915",
   "metadata": {},
   "source": [
    "##### Alors qu'il y en a 25... Les noms des agences dans ce script html ne correspondent pas à ceux sur la page 2 de se Loger. Par exemple: Il n'y a pas d'annonce de Guy Hoquet ni de Saint Ferdinand Immo. Je ne sais pas ce qu'il extrait mais ça ne semble pas être sur la bonne page..."
   ]
  },
  {
   "cell_type": "code",
   "execution_count": null,
   "id": "f2731606",
   "metadata": {},
   "outputs": [],
   "source": []
  },
  {
   "cell_type": "code",
   "execution_count": null,
   "id": "238f529a",
   "metadata": {},
   "outputs": [],
   "source": []
  }
 ],
 "metadata": {
  "kernelspec": {
   "display_name": "Python 3",
   "language": "python",
   "name": "python3"
  },
  "language_info": {
   "codemirror_mode": {
    "name": "ipython",
    "version": 3
   },
   "file_extension": ".py",
   "mimetype": "text/x-python",
   "name": "python",
   "nbconvert_exporter": "python",
   "pygments_lexer": "ipython3",
   "version": "3.8.8"
  }
 },
 "nbformat": 4,
 "nbformat_minor": 5
}
