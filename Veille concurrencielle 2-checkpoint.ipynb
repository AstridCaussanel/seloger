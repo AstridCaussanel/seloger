{
 "cells": [
  {
   "cell_type": "code",
   "execution_count": 1,
   "id": "e497e109",
   "metadata": {},
   "outputs": [],
   "source": [
    "import requests\n",
    "from bs4 import BeautifulSoup\n",
    "\n",
    "import numpy as np\n",
    "import pandas as pd\n",
    "\n",
    "%matplotlib inline\n",
    "import matplotlib"
   ]
  },
  {
   "cell_type": "markdown",
   "id": "5df5f32c",
   "metadata": {},
   "source": [
    "### Récupérer données"
   ]
  },
  {
   "cell_type": "code",
   "execution_count": 115,
   "id": "9a123397",
   "metadata": {},
   "outputs": [],
   "source": [
    "# url='https://www.seloger.com/list.htm?projects=2,5&types=1,2&natures=1,2,4&places=[{%22inseeCodes%22:[750117]}]&price=1000000/1500000&surface=100/NaN&enterprise=0&qsVersion=1.0&m=search_refine'\n",
    "\n",
    "url='https://www.seloger.com/list.htm?projects=2%2C5&types=1%2C2&natures=1%2C2%2C4&places=%5B%7B%22inseeCodes%22%3A%5B750117%5D%7D%5D&price=1000000%2F1500000&surface=100%2FNaN&enterprise=0&qsVersion=1.0'\n",
    "headers={ 'User-Agent':'Mozilla/5.0(Windows NT 10.0;Win64;x64;rv:89.0) Gecko/20100101 Firefox/89.0',\n",
    "}"
   ]
  },
  {
   "cell_type": "code",
   "execution_count": 116,
   "id": "ce35f121",
   "metadata": {},
   "outputs": [],
   "source": [
    "r=requests.get(url,allow_redirects=True,headers=headers)"
   ]
  },
  {
   "cell_type": "markdown",
   "id": "8f86fb80",
   "metadata": {},
   "source": [
    "### Transformer en fichier HTML"
   ]
  },
  {
   "cell_type": "code",
   "execution_count": 120,
   "id": "9e760ef1",
   "metadata": {},
   "outputs": [
    {
     "data": {
      "text/plain": [
       "[<a class=\"Contact__NameContainer-sc-3d01ca-0 dUWYFm\" data-test=\"sl.website\" href=\"https://www.barnes-paris.com/\" rel=\"nofollow\" target=\"_blank\">Barnes Courcelles</a>,\n",
       " <a class=\"Contact__NameContainer-sc-3d01ca-0 dUWYFm\" data-test=\"sl.website\" href=\"http://www.buildingpartners.com/\" rel=\"nofollow\" target=\"_blank\">Building Partners</a>,\n",
       " <a class=\"Contact__NameContainer-sc-3d01ca-0 dUWYFm\" data-test=\"sl.website\" href=\"http://www.buildingpartners.com/\" rel=\"nofollow\" target=\"_blank\">Building Partners</a>,\n",
       " <a class=\"Contact__NameContainer-sc-3d01ca-0 dUWYFm\" data-test=\"sl.website\" href=\"http://www.buildingpartners.com/\" rel=\"nofollow\" target=\"_blank\">Building Partners</a>,\n",
       " <a class=\"Contact__NameContainer-sc-3d01ca-0 dUWYFm\" data-test=\"sl.website\" href=\"https://www.efficity.com/adeponcins\" rel=\"nofollow\" target=\"_blank\">Efficity - Paris 17 - Anne De Poncins</a>,\n",
       " <a class=\"Contact__NameContainer-sc-3d01ca-0 dUWYFm\" data-test=\"sl.website\" href=\"http://www.consultants-immobilier.com/\" rel=\"nofollow\" target=\"_blank\">Consultant Immobilier</a>,\n",
       " <a class=\"Contact__NameContainer-sc-3d01ca-0 dUWYFm\" data-test=\"sl.website\" href=\"http://www.buildingpartners.com/\" rel=\"nofollow\" target=\"_blank\">Building Partners</a>,\n",
       " <a class=\"Contact__NameContainer-sc-3d01ca-0 dUWYFm\" data-test=\"sl.website\" href=\"http://www.callimmo.com/\" rel=\"nofollow\" target=\"_blank\">Call'immo</a>,\n",
       " <a class=\"Contact__NameContainer-sc-3d01ca-0 dUWYFm\" data-test=\"sl.website\" href=\"http://www.orpi.com/urbansuccess\" rel=\"nofollow\" target=\"_blank\">Urban Success</a>,\n",
       " <a class=\"Contact__NameContainer-sc-3d01ca-0 dUWYFm\" data-test=\"sl.website\" href=\"http://www.iadfrance.fr/fr/conseiller/@sebastien.clausse??utm_campaign=spring&amp;utm_medium=referral&amp;utm_source=seloger\" rel=\"nofollow\" target=\"_blank\">Iad France / Sébastien Clausse</a>,\n",
       " <a class=\"Contact__NameContainer-sc-3d01ca-0 dUWYFm\" data-test=\"sl.website\" href=\"http://www.imax.fr/\" rel=\"nofollow\" target=\"_blank\">Imax Paris</a>,\n",
       " <a class=\"Contact__NameContainer-sc-3d01ca-0 dUWYFm\" data-test=\"sl.website\" href=\"http://www.iconicparis.com/\" rel=\"nofollow\" target=\"_blank\">Iconic Paris Immobilier</a>,\n",
       " <a class=\"Contact__NameContainer-sc-3d01ca-0 dUWYFm\" data-test=\"sl.website\" href=\"http://www.stephaneplazaimmobilier.com/agence/115119___/stephane-plaza-immobilier-paris-17-eme-batignolles.html\" rel=\"nofollow\" target=\"_blank\">Stéphane Plaza Immobilier Paris 17 Ème Batignolles</a>,\n",
       " <a class=\"Contact__NameContainer-sc-3d01ca-0 dUWYFm\" data-test=\"sl.website\" href=\"https://www.barnes-paris.com/\" rel=\"nofollow\" target=\"_blank\">Barnes Courcelles</a>,\n",
       " <a class=\"Contact__NameContainer-sc-3d01ca-0 dUWYFm\" data-test=\"sl.website\" href=\"https://www.barnes-paris.com/\" rel=\"nofollow\" target=\"_blank\">Barnes Courcelles</a>,\n",
       " <a class=\"Contact__NameContainer-sc-3d01ca-0 dUWYFm\" data-test=\"sl.website\" href=\"http://www.agencessaintferdinand.com/\" rel=\"nofollow\" target=\"_blank\">Saint Ferdinand Courcelles</a>,\n",
       " <a class=\"Contact__NameContainer-sc-3d01ca-0 dUWYFm\" data-test=\"sl.website\" href=\"http://www.buildingpartners.com/\" rel=\"nofollow\" target=\"_blank\">Building Partners</a>,\n",
       " <a class=\"Contact__NameContainer-sc-3d01ca-0 dUWYFm\" data-test=\"sl.website\" href=\"http://www.buildingpartners.com/\" rel=\"nofollow\" target=\"_blank\">Building Partners</a>,\n",
       " <a class=\"Contact__NameContainer-sc-3d01ca-0 dUWYFm\" data-test=\"sl.website\" href=\"http://www.bosetta-immobilier.com/\" rel=\"nofollow\" target=\"_blank\">Bosetta Immobilier</a>,\n",
       " <a class=\"Contact__NameContainer-sc-3d01ca-0 dUWYFm\" data-test=\"sl.website\" href=\"http://www.buildingpartners.com/\" rel=\"nofollow\" target=\"_blank\">Building Partners</a>,\n",
       " <a class=\"Contact__NameContainer-sc-3d01ca-0 dUWYFm\" data-test=\"sl.website\" href=\"http://www.buildingpartners.com/\" rel=\"nofollow\" target=\"_blank\">Building Partners</a>,\n",
       " <a class=\"Contact__NameContainer-sc-3d01ca-0 dUWYFm\" data-test=\"sl.website\" href=\"https://danielfeau.com/\" rel=\"nofollow\" target=\"_blank\">Daniel Feau Ternes</a>,\n",
       " <a class=\"Contact__NameContainer-sc-3d01ca-0 dUWYFm\" data-test=\"sl.website\" href=\"http://www.danielfeau.com/\" rel=\"nofollow\" target=\"_blank\">Daniel Féau Plaine Monceau</a>,\n",
       " <a class=\"Contact__NameContainer-sc-3d01ca-0 dUWYFm\" data-test=\"sl.website\" href=\"http://www.buildingpartners.com/\" rel=\"nofollow\" target=\"_blank\">Building Partners</a>,\n",
       " <a class=\"Contact__NameContainer-sc-3d01ca-0 dUWYFm\" data-test=\"sl.website\" href=\"http://www.squares-international.com/\" rel=\"nofollow\" target=\"_blank\">Square’s International</a>]"
      ]
     },
     "execution_count": 120,
     "metadata": {},
     "output_type": "execute_result"
    }
   ],
   "source": [
    "soup = BeautifulSoup(r.text, \"html.parser\")\n",
    "biens_html=soup.find_all(\"a\", {\"class\":\"Contact__NameContainer-sc-3d01ca-0 dUWYFm\"})\n",
    "biens_html"
   ]
  },
  {
   "cell_type": "code",
   "execution_count": 119,
   "id": "faa05f47",
   "metadata": {
    "scrolled": true
   },
   "outputs": [
    {
     "data": {
      "text/plain": [
       "[<ul class=\"SimplePagination__SimplePaginationContainer-sc-1xh27g4-0 bREhzg\" data-test=\"sl.simplepagination-container\"><li class=\"active\"><a href=\"/list.htm?projects=2%2C5&amp;types=1%2C2&amp;natures=1%2C2%2C4&amp;places=%5B%7B%22inseeCodes%22%3A%5B750117%5D%7D%5D&amp;price=1000000%2F1500000&amp;surface=100%2FNaN&amp;enterprise=0&amp;qsVersion=1.0\">1</a></li><li class=\"\"><a href=\"/list.htm?projects=2%2C5&amp;types=1%2C2&amp;natures=1%2C2%2C4&amp;places=%5B%7B%22inseeCodes%22%3A%5B750117%5D%7D%5D&amp;price=1000000%2F1500000&amp;surface=100%2FNaN&amp;enterprise=0&amp;qsVersion=1.0&amp;LISTING-LISTpg=2\">2</a></li><li class=\"\"><a href=\"/list.htm?projects=2%2C5&amp;types=1%2C2&amp;natures=1%2C2%2C4&amp;places=%5B%7B%22inseeCodes%22%3A%5B750117%5D%7D%5D&amp;price=1000000%2F1500000&amp;surface=100%2FNaN&amp;enterprise=0&amp;qsVersion=1.0&amp;LISTING-LISTpg=3\">3</a></li><li class=\"\"><a href=\"/list.htm?projects=2%2C5&amp;types=1%2C2&amp;natures=1%2C2%2C4&amp;places=%5B%7B%22inseeCodes%22%3A%5B750117%5D%7D%5D&amp;price=1000000%2F1500000&amp;surface=100%2FNaN&amp;enterprise=0&amp;qsVersion=1.0&amp;LISTING-LISTpg=4\">4</a></li><li class=\"\"><a href=\"/list.htm?projects=2%2C5&amp;types=1%2C2&amp;natures=1%2C2%2C4&amp;places=%5B%7B%22inseeCodes%22%3A%5B750117%5D%7D%5D&amp;price=1000000%2F1500000&amp;surface=100%2FNaN&amp;enterprise=0&amp;qsVersion=1.0&amp;LISTING-LISTpg=5\">5</a></li><li class=\"next\"><a href=\"/list.htm?projects=2%2C5&amp;types=1%2C2&amp;natures=1%2C2%2C4&amp;places=%5B%7B%22inseeCodes%22%3A%5B750117%5D%7D%5D&amp;price=1000000%2F1500000&amp;surface=100%2FNaN&amp;enterprise=0&amp;qsVersion=1.0&amp;LISTING-LISTpg=2\">Suivant<i class=\"fi fi-chevron-right\"></i></a></li></ul>]"
      ]
     },
     "execution_count": 119,
     "metadata": {},
     "output_type": "execute_result"
    }
   ],
   "source": [
    "liste_page_html=soup.find_all(\"ul\", {\"class\":\"SimplePagination__SimplePaginationContainer-sc-1xh27g4-0 bREhzg\"})\n",
    "liste_page_html"
   ]
  },
  {
   "cell_type": "code",
   "execution_count": 10,
   "id": "abd0febb",
   "metadata": {},
   "outputs": [
    {
     "data": {
      "text/plain": [
       "[<li><a class=\"\" href=\"//www.seloger.com/vente.htm#?BD=Head_AC_Vente_2\" target=\"_self\">Appartement ou Maison</a></li>,\n",
       " <li><a class=\"\" href=\"//www.selogerneuf.com/#?CMP=INT-HeadSL-AC9\" rel=\"noreferrer noopener\" target=\"_blank\">Neuf</a></li>,\n",
       " <li><a class=\"\" href=\"https://www.bellesdemeures.com/#?CMP=INT_SL_Header\" rel=\"noreferrer noopener\" target=\"_blank\">Bien d'exception</a></li>,\n",
       " <li><a class=\"\" href=\"https://www.seloger-construire.com/projet-construction/terrain/pays/france/#?CMP=INT_AC_CMI_1\" rel=\"noreferrer noopener\" target=\"_blank\">Terrain</a></li>,\n",
       " <li><a class=\"\" href=\"//www.seloger.com/viagers.htm#?BD=Head_AC_Viager_6\" target=\"_self\">Viager</a></li>,\n",
       " <li><a class=\"\" href=\"https://bureaux-commerces.seloger.com/#?CMP=INT_Head_AC_Bureau_7\" target=\"_self\">Bureaux &amp; Commerces</a></li>,\n",
       " <li><a class=\"\" href=\"//www.seloger.com/estimation-immobiliere.html#?m=header-acheter-estimation_immo\" target=\"_self\">Estimation immobilière</a></li>,\n",
       " <li><a class=\"\" href=\"//www.seloger.com/prix-de-l-immo/vente/pays/france.htm#?BD=Head_AC_PrixImm_8\" target=\"_self\">Prix au m²</a></li>,\n",
       " <li><a class=\"\" href=\"//www.seloger.com/biens-vendus#?m=header-acheter-derniers_bien_vendus\" target=\"_self\">Derniers biens vendus</a></li>,\n",
       " <li><a class=\"c-red-button-wrapper\" href=\"//www.seloger.com/credit-immobilier/simulateur-capacite-demprunt/#?m=header-acheter-capacite_emprunt\" target=\"_self\">Calculette : capacité d'emprunt </a></li>,\n",
       " <li><a class=\"\" href=\"https://edito.seloger.com/conseils-d-experts/acheter/les-check-lists-avant-d-acheter-votre-appartement-sommaire.html#?BD=Head_AC_Ed_11\" target=\"_self\">Checklist de l'acheteur</a></li>,\n",
       " <li><a class=\"\" href=\"https://edito.seloger.com/rubrique/financement/mesures-fiscales#?BD=Head_AC_Ed_12\" target=\"_self\">Défiscalisation</a></li>,\n",
       " <li><a class=\"\" href=\"//www.seloger.com/annuaire/#?BD=Head_AC_Annuaire_13\" target=\"_self\">Choisir un agent</a></li>,\n",
       " <li><a class=\"c-red-button-wrapper\" href=\"//www.seloger.com/credit-immobilier/mon-financement/#?m=header-acheter-credit\" target=\"_self\">Votre crédit : comparez les offres</a></li>,\n",
       " <li><a class=\"\" href=\"//www.seloger.com/location.htm#?BD=Head_LO_Loc_2\" target=\"_self\">Appartement ou Maison</a></li>,\n",
       " <li><a class=\"\" href=\"https://www.bellesdemeures.com/#?CMP=INT_SL_Header\" rel=\"noreferrer noopener\" target=\"_blank\">Bien d'exception</a></li>,\n",
       " <li><a class=\"\" href=\"//www.seloger.com/locations-temporaires.htm#?BD=Head_LO_Temp_5\" target=\"_self\">Location temporaire</a></li>,\n",
       " <li><a class=\"\" href=\"//vacances.seloger.com/#?CMP=INT_Head_LO_6\" rel=\"noreferrer noopener\" target=\"_blank\">Location de vacances</a></li>,\n",
       " <li><a class=\"\" href=\"https://bureaux-commerces.seloger.com/#?CMP=INT_Head_LO_7\" target=\"_self\">Bureaux &amp; Commerces</a></li>,\n",
       " <li><a class=\"\" href=\"//www.seloger.com/prix-de-l-immo/location/pays/france.htm#?m=header-louer-estimation_prix_loyers\" target=\"_self\">Estimation prix des loyers</a></li>,\n",
       " <li><a class=\"\" href=\"https://edito.seloger.com/conseils-d-experts/louer/les-check-lists-avant-de-louer-un-appartement-sommaire.html#?BD=Head_LO_Ed_8\" target=\"_self\">Check-lists location</a></li>,\n",
       " <li><a class=\"\" href=\"https://edito.seloger.com/preparer-votre-dossier-de-location-book-4215.html#?BD=Head_LO_Ed_9\" target=\"_self\">Dossier de location</a></li>,\n",
       " <li><a class=\"c-red-button-wrapper\" href=\"https://www.seloger.com/mettre-en-location.htm#?BD=Head_LO_Part_10\" target=\"_self\">Propriétaire ? Déposez votre annonce </a></li>,\n",
       " <li><a class=\"\" href=\"//www.selogerneuf.com/#?CMP=INT-HeadSL-Const9\" rel=\"noreferrer noopener\" target=\"_blank\">Logements neufs</a></li>,\n",
       " <li><a class=\"\" href=\"https://www.seloger-construire.com/projet-construction/maison-terrain/pays/france/#?CMP=INT_CO_CMI_3\" rel=\"noreferrer noopener\" target=\"_blank\">Terrain + Maison</a></li>,\n",
       " <li><a class=\"\" href=\"https://www.seloger-construire.com/projet-construction/terrain/pays/france/#?CMP=INT_CO_CMI_5\" rel=\"noreferrer noopener\" target=\"_blank\">Terrain constructible</a></li>,\n",
       " <li><a class=\"\" href=\"https://www.seloger-construire.com/projet-construction/terrain-viabilise/pays/france/#?CMP=INT_CO_CMI_4\" rel=\"noreferrer noopener\" target=\"_blank\">Terrain viabilisé</a></li>,\n",
       " <li><a class=\"\" href=\"https://www.seloger-construire.com/projet-construction/maison-neuve/pays/france/#?CMP=INT_CO_CMI_6\" rel=\"noreferrer noopener\" target=\"_blank\">Modèles de maison</a></li>,\n",
       " <li><a class=\"\" href=\"https://www.seloger-construire.com/plan-maison#?CMP=INT_CO_CMI_2\" rel=\"noreferrer noopener\" target=\"_blank\">Plan de maison</a></li>,\n",
       " <li><a class=\"\" href=\"https://www.seloger-construire.com/annuaire/#?cmp=INT_CO_CMI_7\" rel=\"noreferrer noopener\" target=\"_blank\">Constructeurs</a></li>,\n",
       " <li><a class=\"\" href=\"https://edito.selogerneuf.com/financement/mesures-fiscales/loi-pinel-le-guide-pour-tout-savoir-sur-la-defiscalisation-dossier-1816.html#?BD=Head_CO_Ed_8\" rel=\"noreferrer noopener\" target=\"_blank\">Dossier Loi Pinel</a></li>,\n",
       " <li><a class=\"\" href=\"//www.seloger.com/credit-immobilier/mon-financement/#?m=header-construire-simulateur\" target=\"_self\">Simulateur de financement</a></li>,\n",
       " <li><a class=\"\" href=\" https://bureaux-commerces.seloger.com/achat/bureau#?CMP=INT_SLBC_2\" rel=\"noreferrer noopener\" target=\"_blank\">Bureau</a></li>,\n",
       " <li><a class=\"\" href=\"https://bureaux-commerces.seloger.com/achat/fonds-de-commerce#?CMP=INT_SLBC_3\" rel=\"noreferrer noopener\" target=\"_blank\">Fonds de commerce</a></li>,\n",
       " <li><a class=\"\" href=\"https://bureaux-commerces.seloger.com/achat/boutique#?CMP=INT_SLBC_4\" rel=\"noreferrer noopener\" target=\"_blank\">Boutique</a></li>,\n",
       " <li><a class=\"\" href=\" https://bureaux-commerces.seloger.com/location/bureau#?CMP=INT_SLBC_5\" rel=\"noreferrer noopener\" target=\"_blank\">Bureau</a></li>,\n",
       " <li><a class=\"\" href=\"https://bureaux-commerces.seloger.com/location/coworking#?CMP=INT_SLBC_6\" rel=\"noreferrer noopener\" target=\"_blank\">Espace de coworking</a></li>,\n",
       " <li><a class=\"\" href=\"https://bureaux-commerces.seloger.com/location/local-d-activites-entrepot#?CMP=INT_SLBC_7\" rel=\"noreferrer noopener\" target=\"_blank\">Entrepôt </a></li>,\n",
       " <li><a class=\"\" href=\"//www.seloger.com/credit-immobilier/mon-financement/#?m=header-emprunter-credit\" target=\"_self\">Votre crédit : comparez les offres</a></li>,\n",
       " <li><a class=\"\" href=\"//www.seloger.com/credit-immobilier/mon-assurance-emprunteur?m=header-emprunter-assurance_pret\" rel=\"noreferrer noopener\" target=\"_blank\">Assurance de prêt : en savoir plus</a></li>,\n",
       " <li><a class=\"\" href=\"//www.seloger.com/credit-immobilier/simulation-loi-pinel?m=header-emprunter-investir\" target=\"_self\">Investir</a></li>,\n",
       " <li><a class=\"\" href=\"//www.seloger.com/credit-immobilier/simulateur-capacite-demprunt/#?m=header-emprunter-capacite_emprunt\" target=\"_self\">Votre capacité d'emprunt</a></li>,\n",
       " <li><a class=\"\" href=\"//www.seloger.com/credit-immobilier/simulateur-mensualites/#?m=header-emprunter-mensualites\" target=\"_self\">Calculez vos mensualités</a></li>,\n",
       " <li><a class=\"\" href=\"//www.seloger.com/credit-immobilier/simulateur-frais-notaire/#?m=header-emprunter-frais_notaire\" target=\"_self\">Estimez vos frais de notaire</a></li>,\n",
       " <li><a class=\"\" href=\"//www.seloger.com/demenagement_formulaire?m=header-emmenager-organiser\" rel=\"noreferrer noopener\" target=\"_blank\">Organisez votre déménagement</a></li>,\n",
       " <li><a class=\"\" href=\"//www.seloger.com/demenagement.htm#?BD=Header_check_list\" target=\"_self\">Votre check-list déménagement</a></li>,\n",
       " <li><a class=\"\" href=\"https://particulier.edf.fr/fr/accueil/autres-pages/demenagement-edf.html?utm_medium=display&amp;utm_source=seloger&amp;utm_campaign=partenariat_media&amp;edf_support=site_seloger_header_choix_offre\" rel=\"noreferrer noopener\" target=\"_blank\">Energie : choisissez votre offre</a></li>,\n",
       " <li><a class=\"c-red-button-wrapper\" href=\"https://particulier.edf.fr/fr/accueil/autres-pages/demenagement-edf.html?utm_medium=display&amp;utm_source=seloger&amp;utm_campaign=partenariat_media&amp;edf_support=site_seloger_header_demenagez_facile\" rel=\"noreferrer noopener\" target=\"_blank\">EDF : déménagez facile</a></li>,\n",
       " <li><a class=\"\" href=\"https://edito.seloger.com/preparer-book-13835.html\" rel=\"noreferrer noopener\" target=\"_blank\">Préparer la vente</a></li>,\n",
       " <li><a class=\"\" href=\"https://edito.seloger.com/je-me-fais-une-idee-des-prix-book-13865.html\" rel=\"noreferrer noopener\" target=\"_blank\">Définir le prix de vente</a></li>,\n",
       " <li><a class=\"\" href=\"https://edito.seloger.com/organiser-book-13841.html\" rel=\"noreferrer noopener\" target=\"_blank\">Mettre en vente</a></li>,\n",
       " <li><a class=\"\" href=\"https://edito.seloger.com/finaliser-book-13844.html\" rel=\"noreferrer noopener\" target=\"_blank\">Trouver le bon acheteur</a></li>,\n",
       " <li><a class=\"\" href=\"https://edito.seloger.com/vendre-book-13838.html\" rel=\"noreferrer noopener\" target=\"_blank\">Conclure la vente</a></li>,\n",
       " <li><a class=\"\" href=\"//www.seloger.com/estimation-immobiliere.html#?m=header-vendre-estimation_immobiliere\" target=\"_self\">Estimation immobilière</a></li>,\n",
       " <li><a class=\"\" href=\"//www.seloger.com/prix-de-l-immo/vente/pays/france.htm#?m=header-vendre-prix_immo\" target=\"_self\">Carte des prix de l'immobilier</a></li>,\n",
       " <li><a class=\"\" href=\"//www.seloger.com/biens-vendus#?m=header-vendre-derniers_bien_vendus\" target=\"_self\">Historique des biens vendus</a></li>,\n",
       " <li><a class=\"\" href=\"//www.seloger.com/annuaire/?#m=header-vendre-annuaire\" target=\"_self\">Annuaire des professionnels</a></li>,\n",
       " <li>5 p</li>,\n",
       " <li>3 ch</li>,\n",
       " <li>117 m²</li>,\n",
       " <li>5 p</li>,\n",
       " <li>3 ch</li>,\n",
       " <li>110 m²</li>,\n",
       " <li>5 p</li>,\n",
       " <li>3 ch</li>,\n",
       " <li>103 m²</li>,\n",
       " <li>5 p</li>,\n",
       " <li>3 ch</li>,\n",
       " <li>120 m²</li>,\n",
       " <li>4 p</li>,\n",
       " <li>2 ch</li>,\n",
       " <li>113 m²</li>,\n",
       " <li><a>44 biens en vente</a></li>,\n",
       " <li>3 p</li>,\n",
       " <li>2 ch</li>,\n",
       " <li>100 m²</li>,\n",
       " <li>5 p</li>,\n",
       " <li>4 ch</li>,\n",
       " <li>104 m²</li>,\n",
       " <li>5 p</li>,\n",
       " <li>3 ch</li>,\n",
       " <li>104 m²</li>,\n",
       " <li>3 p</li>,\n",
       " <li>2 ch</li>,\n",
       " <li>100 m²</li>,\n",
       " <li>5 p</li>,\n",
       " <li>4 ch</li>,\n",
       " <li>120 m²</li>,\n",
       " <li>5 p</li>,\n",
       " <li>3 ch</li>,\n",
       " <li>120 m²</li>,\n",
       " <li>8 p</li>,\n",
       " <li>4 ch</li>,\n",
       " <li>128 m²</li>,\n",
       " <li>4 p</li>,\n",
       " <li>2 ch</li>,\n",
       " <li>100 m²</li>,\n",
       " <li>5 p</li>,\n",
       " <li>3 ch</li>,\n",
       " <li>105 m²</li>,\n",
       " <li>5 p</li>,\n",
       " <li>3 ch</li>,\n",
       " <li>108 m²</li>,\n",
       " <li>4 p</li>,\n",
       " <li>2 ch</li>,\n",
       " <li>114 m²</li>,\n",
       " <li>4 p</li>,\n",
       " <li>2 ch</li>,\n",
       " <li>130 m²</li>,\n",
       " <li>5 p</li>,\n",
       " <li>2 ch</li>,\n",
       " <li>103 m²</li>,\n",
       " <li>5 p</li>,\n",
       " <li>3 ch</li>,\n",
       " <li>103 m²</li>,\n",
       " <li>4 p</li>,\n",
       " <li>3 ch</li>,\n",
       " <li>129 m²</li>,\n",
       " <li>4 p</li>,\n",
       " <li>3 ch</li>,\n",
       " <li>115 m²</li>,\n",
       " <li>5 p</li>,\n",
       " <li>3 ch</li>,\n",
       " <li>107 m²</li>,\n",
       " <li>4 p</li>,\n",
       " <li>3 ch</li>,\n",
       " <li>130 m²</li>,\n",
       " <li>5 p</li>,\n",
       " <li>3 ch</li>,\n",
       " <li>106 m²</li>,\n",
       " <li>5 p</li>,\n",
       " <li>3 ch</li>,\n",
       " <li>118 m²</li>,\n",
       " <li class=\"\"><a href=\"/list.htm?projects=2%2C5&amp;types=1%2C2&amp;natures=1%2C2%2C4&amp;places=%5B%7B%22inseeCodes%22%3A%5B750117%5D%7D%5D&amp;price=1000000%2F1500000&amp;surface=100%2FNaN&amp;enterprise=0&amp;qsVersion=1.0&amp;LISTING-LISTpg=2\">2</a></li>,\n",
       " <li class=\"\"><a href=\"/list.htm?projects=2%2C5&amp;types=1%2C2&amp;natures=1%2C2%2C4&amp;places=%5B%7B%22inseeCodes%22%3A%5B750117%5D%7D%5D&amp;price=1000000%2F1500000&amp;surface=100%2FNaN&amp;enterprise=0&amp;qsVersion=1.0&amp;LISTING-LISTpg=3\">3</a></li>,\n",
       " <li class=\"\"><a href=\"/list.htm?projects=2%2C5&amp;types=1%2C2&amp;natures=1%2C2%2C4&amp;places=%5B%7B%22inseeCodes%22%3A%5B750117%5D%7D%5D&amp;price=1000000%2F1500000&amp;surface=100%2FNaN&amp;enterprise=0&amp;qsVersion=1.0&amp;LISTING-LISTpg=4\">4</a></li>,\n",
       " <li class=\"\"><a href=\"/list.htm?projects=2%2C5&amp;types=1%2C2&amp;natures=1%2C2%2C4&amp;places=%5B%7B%22inseeCodes%22%3A%5B750117%5D%7D%5D&amp;price=1000000%2F1500000&amp;surface=100%2FNaN&amp;enterprise=0&amp;qsVersion=1.0&amp;LISTING-LISTpg=5\">5</a></li>]"
      ]
     },
     "execution_count": 10,
     "metadata": {},
     "output_type": "execute_result"
    }
   ],
   "source": [
    "liste_page_html=soup.find_all(\"li\", {\"class\":\"\"})\n",
    "liste_page_html"
   ]
  },
  {
   "cell_type": "code",
   "execution_count": 21,
   "id": "ce9d73fd",
   "metadata": {},
   "outputs": [
    {
     "data": {
      "text/plain": [
       "'5'"
      ]
     },
     "execution_count": 21,
     "metadata": {},
     "output_type": "execute_result"
    }
   ],
   "source": [
    "nombre_de_pages=liste_page_html[-1]\n",
    "nombre_de_pages=nombre_de_pages.string\n",
    "nombre_de_pages"
   ]
  },
  {
   "cell_type": "code",
   "execution_count": 22,
   "id": "113a03c5",
   "metadata": {},
   "outputs": [],
   "source": [
    "Next=soup.find_all(\"li\", {\"class\":\"next\"})\n",
    "lien_base=Next[0].find_all('a')[0].get('href')"
   ]
  },
  {
   "cell_type": "code",
   "execution_count": 23,
   "id": "3115ac47",
   "metadata": {
    "scrolled": true
   },
   "outputs": [
    {
     "data": {
      "text/plain": [
       "'/list.htm?projects=2%2C5&types=1%2C2&natures=1%2C2%2C4&places=%5B%7B%22inseeCodes%22%3A%5B750117%5D%7D%5D&price=1000000%2F1500000&surface=100%2FNaN&enterprise=0&qsVersion=1.0&LISTING-LISTpg='"
      ]
     },
     "execution_count": 23,
     "metadata": {},
     "output_type": "execute_result"
    }
   ],
   "source": [
    "lien_base=lien_base.rstrip(lien_base[-1])\n",
    "lien_base"
   ]
  },
  {
   "cell_type": "code",
   "execution_count": 85,
   "id": "80cbed07",
   "metadata": {},
   "outputs": [
    {
     "name": "stdout",
     "output_type": "stream",
     "text": [
      "len(biens_list) =  95\n"
     ]
    },
    {
     "data": {
      "text/plain": [
       "['Barnes Courcelles',\n",
       " 'Building Partners',\n",
       " 'Building Partners',\n",
       " 'Building Partners',\n",
       " 'Efficity - Paris 17 - Anne De Poncins',\n",
       " 'Consultant Immobilier',\n",
       " 'Building Partners',\n",
       " \"Call'immo\",\n",
       " 'Imax Paris',\n",
       " 'Keller Williams Fortis Immo',\n",
       " 'Iad France / Sébastien Clausse',\n",
       " 'Urban Success',\n",
       " 'Iconic Paris Immobilier',\n",
       " 'Stéphane Plaza Immobilier Paris 17 Ème Batignolles',\n",
       " 'Building Partners',\n",
       " 'Saint Ferdinand Courcelles',\n",
       " 'Barnes Courcelles',\n",
       " 'Barnes Courcelles',\n",
       " 'Building Partners',\n",
       " 'Bosetta Immobilier',\n",
       " 'Daniel Féau Plaine Monceau',\n",
       " 'Building Partners',\n",
       " 'Agence Principale',\n",
       " 'Building Partners',\n",
       " 'Building Partners',\n",
       " 'Square’s International',\n",
       " 'Daniel Feau Ternes',\n",
       " 'Agence Impact Immo',\n",
       " 'Square’s International',\n",
       " 'Guy Hoquet Prestige',\n",
       " \"Paris Ouest Sotheby's Ir Etoile - Monceau\",\n",
       " 'Odeon Immobilier',\n",
       " 'Agence Sadone',\n",
       " 'Paris Neuilly Immobilier',\n",
       " 'Kw Monceau',\n",
       " 'Terrasses En Vue. Com',\n",
       " 'Propriétés Parisiennes',\n",
       " 'Building Partners',\n",
       " 'Saint Ferdinand Immobilier',\n",
       " 'Orpi Réussite Immobilière',\n",
       " 'Iad France / Christophe Farman',\n",
       " 'Saint Ferdinand Villiers',\n",
       " 'Faurie Immobilier',\n",
       " 'Vaneau Saint Honore',\n",
       " 'Paris Neuilly Immobilier',\n",
       " 'Era Villiers',\n",
       " 'Imax Paris',\n",
       " 'Etude Amboise Immobilier',\n",
       " 'F.g.d.i Pereire',\n",
       " 'Consultants Immobilier',\n",
       " 'Guy Hoquet Paris 16 Victor Hugo',\n",
       " 'Paris Neuilly Immobilier',\n",
       " 'France Lodge Immo+',\n",
       " 'Les Loges Immobilier',\n",
       " 'Building Partners',\n",
       " 'Agence Principale',\n",
       " 'Century 21 Agence Des Ternes',\n",
       " \"Paris Ouest Sotheby's Ir Etoile - Monceau\",\n",
       " 'Arthurimmo Paris 5',\n",
       " 'Laforet Immobilier Villiers',\n",
       " 'Breteuil Immobilier',\n",
       " 'Nouallet Immobilier',\n",
       " 'Lb Transactions',\n",
       " 'Laforet Immobilier Villiers',\n",
       " 'Eylau Immobilier',\n",
       " 'Consultants Immobilier',\n",
       " 'Keller Williams Fortis Immo',\n",
       " 'Bhm Immobilier',\n",
       " 'Iad France / Myriam Fathi',\n",
       " 'Saint Ferdinand Batignolles',\n",
       " 'Consultant Immobilier',\n",
       " 'Emile Garcin Paris Rive Droite',\n",
       " 'Saint Ferdinand Courcelles',\n",
       " 'Gabrielle Dorfmann Immobilier',\n",
       " 'Lb Transactions',\n",
       " 'Imop',\n",
       " 'Walter & De Maison',\n",
       " 'Bnp Pre Chh -  Vente Lot Par Lot',\n",
       " 'Saint Ferdinand Courcelles',\n",
       " 'Breteuil Immobilier',\n",
       " 'Espaces Atypiques Paris Ouest',\n",
       " 'Real Commercialisation',\n",
       " 'Belmont Immobilier',\n",
       " 'Courcelles Immobilier',\n",
       " 'Asinvestimmo',\n",
       " 'Bosetta Immobilier',\n",
       " 'Square’s International',\n",
       " 'Square’s International',\n",
       " 'Square’s International',\n",
       " 'Haussmann Prestige Paris',\n",
       " 'Vaneau 9ème',\n",
       " 'Henri James Immobilier',\n",
       " 'Groupe Mercure Paris - Ile De France',\n",
       " 'Foncia Transaction Paris Levis',\n",
       " 'Belmont Immobilier']"
      ]
     },
     "execution_count": 85,
     "metadata": {},
     "output_type": "execute_result"
    }
   ],
   "source": [
    "biens_list=[]\n",
    "\n",
    "r=requests.get(url,allow_redirects=True, headers=headers)\n",
    "soup = BeautifulSoup(r.text, \"html.parser\")\n",
    "biens_html=soup.find_all(\"a\", {\"class\":\"Contact__NameContainer-sc-3d01ca-0 dUWYFm\"})\n",
    "for biens in biens_html:\n",
    "    biens_list.append(biens.string)\n",
    "\n",
    "for i in range (2,int(nombre_de_pages)+1):\n",
    "    url_next='https://www.seloger.com' + lien_base+str(i)\n",
    "    r=requests.get(url_next,allow_redirects=True, headers=headers)\n",
    "    soup = BeautifulSoup(r.text, \"html.parser\")\n",
    "    biens_html=soup.find_all(\"a\", {\"class\":\"Contact__NameContainer-sc-3d01ca-0 dUWYFm\"})\n",
    "    for biens in biens_html:\n",
    "        biens_list.append(biens.string)\n",
    "        \n",
    "print(\"len(biens_list) = \", len(biens_list))\n",
    "biens_list"
   ]
  },
  {
   "cell_type": "code",
   "execution_count": null,
   "id": "efc831f9",
   "metadata": {},
   "outputs": [],
   "source": []
  },
  {
   "cell_type": "code",
   "execution_count": null,
   "id": "c86c9d83",
   "metadata": {},
   "outputs": [],
   "source": []
  }
 ],
 "metadata": {
  "kernelspec": {
   "display_name": "Python 3",
   "language": "python",
   "name": "python3"
  },
  "language_info": {
   "codemirror_mode": {
    "name": "ipython",
    "version": 3
   },
   "file_extension": ".py",
   "mimetype": "text/x-python",
   "name": "python",
   "nbconvert_exporter": "python",
   "pygments_lexer": "ipython3",
   "version": "3.8.8"
  }
 },
 "nbformat": 4,
 "nbformat_minor": 5
}
